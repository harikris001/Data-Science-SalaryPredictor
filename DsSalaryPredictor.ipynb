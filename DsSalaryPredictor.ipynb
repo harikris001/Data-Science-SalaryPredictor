{
 "cells": [
  {
   "cell_type": "markdown",
   "id": "d5b64488",
   "metadata": {},
   "source": [
    "# Data Scientist Salary Predictor"
   ]
  },
  {
   "cell_type": "markdown",
   "id": "3e29bc94",
   "metadata": {},
   "source": [
    "## Importing Dependencies"
   ]
  },
  {
   "cell_type": "code",
   "execution_count": 1,
   "id": "3cc34099",
   "metadata": {},
   "outputs": [],
   "source": [
    "import pandas as pd\n",
    "import numpy as np"
   ]
  },
  {
   "cell_type": "code",
   "execution_count": 2,
   "id": "768ced1c",
   "metadata": {},
   "outputs": [],
   "source": [
    "df = pd.read_csv('ds_salaries.csv')"
   ]
  },
  {
   "cell_type": "code",
   "execution_count": 3,
   "id": "988a8a5e",
   "metadata": {},
   "outputs": [
    {
     "data": {
      "text/html": [
       "<div>\n",
       "<style scoped>\n",
       "    .dataframe tbody tr th:only-of-type {\n",
       "        vertical-align: middle;\n",
       "    }\n",
       "\n",
       "    .dataframe tbody tr th {\n",
       "        vertical-align: top;\n",
       "    }\n",
       "\n",
       "    .dataframe thead th {\n",
       "        text-align: right;\n",
       "    }\n",
       "</style>\n",
       "<table border=\"1\" class=\"dataframe\">\n",
       "  <thead>\n",
       "    <tr style=\"text-align: right;\">\n",
       "      <th></th>\n",
       "      <th>work_year</th>\n",
       "      <th>experience_level</th>\n",
       "      <th>employment_type</th>\n",
       "      <th>job_title</th>\n",
       "      <th>salary</th>\n",
       "      <th>salary_currency</th>\n",
       "      <th>salary_in_usd</th>\n",
       "      <th>employee_residence</th>\n",
       "      <th>remote_ratio</th>\n",
       "      <th>company_location</th>\n",
       "      <th>company_size</th>\n",
       "    </tr>\n",
       "  </thead>\n",
       "  <tbody>\n",
       "    <tr>\n",
       "      <th>0</th>\n",
       "      <td>2023</td>\n",
       "      <td>SE</td>\n",
       "      <td>FT</td>\n",
       "      <td>Principal Data Scientist</td>\n",
       "      <td>80000</td>\n",
       "      <td>EUR</td>\n",
       "      <td>85847</td>\n",
       "      <td>ES</td>\n",
       "      <td>100</td>\n",
       "      <td>ES</td>\n",
       "      <td>L</td>\n",
       "    </tr>\n",
       "    <tr>\n",
       "      <th>1</th>\n",
       "      <td>2023</td>\n",
       "      <td>MI</td>\n",
       "      <td>CT</td>\n",
       "      <td>ML Engineer</td>\n",
       "      <td>30000</td>\n",
       "      <td>USD</td>\n",
       "      <td>30000</td>\n",
       "      <td>US</td>\n",
       "      <td>100</td>\n",
       "      <td>US</td>\n",
       "      <td>S</td>\n",
       "    </tr>\n",
       "    <tr>\n",
       "      <th>2</th>\n",
       "      <td>2023</td>\n",
       "      <td>MI</td>\n",
       "      <td>CT</td>\n",
       "      <td>ML Engineer</td>\n",
       "      <td>25500</td>\n",
       "      <td>USD</td>\n",
       "      <td>25500</td>\n",
       "      <td>US</td>\n",
       "      <td>100</td>\n",
       "      <td>US</td>\n",
       "      <td>S</td>\n",
       "    </tr>\n",
       "    <tr>\n",
       "      <th>3</th>\n",
       "      <td>2023</td>\n",
       "      <td>SE</td>\n",
       "      <td>FT</td>\n",
       "      <td>Data Scientist</td>\n",
       "      <td>175000</td>\n",
       "      <td>USD</td>\n",
       "      <td>175000</td>\n",
       "      <td>CA</td>\n",
       "      <td>100</td>\n",
       "      <td>CA</td>\n",
       "      <td>M</td>\n",
       "    </tr>\n",
       "    <tr>\n",
       "      <th>4</th>\n",
       "      <td>2023</td>\n",
       "      <td>SE</td>\n",
       "      <td>FT</td>\n",
       "      <td>Data Scientist</td>\n",
       "      <td>120000</td>\n",
       "      <td>USD</td>\n",
       "      <td>120000</td>\n",
       "      <td>CA</td>\n",
       "      <td>100</td>\n",
       "      <td>CA</td>\n",
       "      <td>M</td>\n",
       "    </tr>\n",
       "  </tbody>\n",
       "</table>\n",
       "</div>"
      ],
      "text/plain": [
       "   work_year experience_level employment_type                 job_title  \\\n",
       "0       2023               SE              FT  Principal Data Scientist   \n",
       "1       2023               MI              CT               ML Engineer   \n",
       "2       2023               MI              CT               ML Engineer   \n",
       "3       2023               SE              FT            Data Scientist   \n",
       "4       2023               SE              FT            Data Scientist   \n",
       "\n",
       "   salary salary_currency  salary_in_usd employee_residence  remote_ratio  \\\n",
       "0   80000             EUR          85847                 ES           100   \n",
       "1   30000             USD          30000                 US           100   \n",
       "2   25500             USD          25500                 US           100   \n",
       "3  175000             USD         175000                 CA           100   \n",
       "4  120000             USD         120000                 CA           100   \n",
       "\n",
       "  company_location company_size  \n",
       "0               ES            L  \n",
       "1               US            S  \n",
       "2               US            S  \n",
       "3               CA            M  \n",
       "4               CA            M  "
      ]
     },
     "execution_count": 3,
     "metadata": {},
     "output_type": "execute_result"
    }
   ],
   "source": [
    "df.head()"
   ]
  },
  {
   "cell_type": "markdown",
   "id": "5ebc502d",
   "metadata": {},
   "source": [
    "## EDA"
   ]
  },
  {
   "cell_type": "code",
   "execution_count": 4,
   "id": "21ff6d31",
   "metadata": {},
   "outputs": [
    {
     "name": "stdout",
     "output_type": "stream",
     "text": [
      "<class 'pandas.core.frame.DataFrame'>\n",
      "RangeIndex: 3755 entries, 0 to 3754\n",
      "Data columns (total 11 columns):\n",
      " #   Column              Non-Null Count  Dtype \n",
      "---  ------              --------------  ----- \n",
      " 0   work_year           3755 non-null   int64 \n",
      " 1   experience_level    3755 non-null   object\n",
      " 2   employment_type     3755 non-null   object\n",
      " 3   job_title           3755 non-null   object\n",
      " 4   salary              3755 non-null   int64 \n",
      " 5   salary_currency     3755 non-null   object\n",
      " 6   salary_in_usd       3755 non-null   int64 \n",
      " 7   employee_residence  3755 non-null   object\n",
      " 8   remote_ratio        3755 non-null   int64 \n",
      " 9   company_location    3755 non-null   object\n",
      " 10  company_size        3755 non-null   object\n",
      "dtypes: int64(4), object(7)\n",
      "memory usage: 322.8+ KB\n"
     ]
    }
   ],
   "source": [
    "df.info()"
   ]
  },
  {
   "cell_type": "code",
   "execution_count": 5,
   "id": "81fb4b58",
   "metadata": {},
   "outputs": [
    {
     "data": {
      "text/plain": [
       "work_year             0\n",
       "experience_level      0\n",
       "employment_type       0\n",
       "job_title             0\n",
       "salary                0\n",
       "salary_currency       0\n",
       "salary_in_usd         0\n",
       "employee_residence    0\n",
       "remote_ratio          0\n",
       "company_location      0\n",
       "company_size          0\n",
       "dtype: int64"
      ]
     },
     "execution_count": 5,
     "metadata": {},
     "output_type": "execute_result"
    }
   ],
   "source": [
    "df.isnull().sum()"
   ]
  },
  {
   "cell_type": "markdown",
   "id": "9906f6fd",
   "metadata": {},
   "source": [
    "data is having no null values."
   ]
  },
  {
   "cell_type": "code",
   "execution_count": 6,
   "id": "71a93e61",
   "metadata": {},
   "outputs": [
    {
     "data": {
      "text/plain": [
       "SE    2516\n",
       "MI     805\n",
       "EN     320\n",
       "EX     114\n",
       "Name: experience_level, dtype: int64"
      ]
     },
     "execution_count": 6,
     "metadata": {},
     "output_type": "execute_result"
    }
   ],
   "source": [
    "df['experience_level'].value_counts()"
   ]
  },
  {
   "cell_type": "markdown",
   "id": "94c22be8",
   "metadata": {},
   "source": [
    "**SE** - senior\n",
    "**MI** - mid senior\n",
    "**EN** - entry level\n",
    "**EX** - experienced"
   ]
  },
  {
   "cell_type": "code",
   "execution_count": 7,
   "id": "1a298d21",
   "metadata": {},
   "outputs": [],
   "source": [
    "df['experience_level'] = df['experience_level'].replace('EN','Entry-level')\n",
    "df['experience_level'] = df['experience_level'].replace('MI','Mid-level')\n",
    "df['experience_level'] = df['experience_level'].replace('SE','Senior-level')\n",
    "df['experience_level'] = df['experience_level'].replace('EX','Executive-level')"
   ]
  },
  {
   "cell_type": "code",
   "execution_count": 8,
   "id": "4cb17e4a",
   "metadata": {},
   "outputs": [
    {
     "data": {
      "text/plain": [
       "FT    3718\n",
       "PT      17\n",
       "CT      10\n",
       "FL      10\n",
       "Name: employment_type, dtype: int64"
      ]
     },
     "execution_count": 8,
     "metadata": {},
     "output_type": "execute_result"
    }
   ],
   "source": [
    "df['employment_type'].value_counts()"
   ]
  },
  {
   "cell_type": "markdown",
   "id": "99a9c884",
   "metadata": {},
   "source": [
    "**FT** - full time\n",
    "**PT** - part time\n",
    "**CT** - Contract\n",
    "**FL** - freelance"
   ]
  },
  {
   "cell_type": "code",
   "execution_count": 9,
   "id": "097f371d",
   "metadata": {},
   "outputs": [],
   "source": [
    "df['employment_type'] = df['employment_type'].replace('FT','Full-Time')\n",
    "df['employment_type'] = df['employment_type'].replace('PT','Part-Time')\n",
    "df['employment_type'] = df['employment_type'].replace('CT','Contract')\n",
    "df['employment_type'] = df['employment_type'].replace('FL','Freelance')"
   ]
  },
  {
   "cell_type": "code",
   "execution_count": 10,
   "id": "2b393524",
   "metadata": {},
   "outputs": [
    {
     "data": {
      "text/plain": [
       "Data Engineer                          1040\n",
       "Data Scientist                          840\n",
       "Data Analyst                            612\n",
       "Machine Learning Engineer               289\n",
       "Analytics Engineer                      103\n",
       "                                       ... \n",
       "Principal Machine Learning Engineer       1\n",
       "Azure Data Engineer                       1\n",
       "Manager Data Management                   1\n",
       "Marketing Data Engineer                   1\n",
       "Finance Data Analyst                      1\n",
       "Name: job_title, Length: 93, dtype: int64"
      ]
     },
     "execution_count": 10,
     "metadata": {},
     "output_type": "execute_result"
    }
   ],
   "source": [
    "df['job_title'].value_counts()"
   ]
  },
  {
   "cell_type": "code",
   "execution_count": 11,
   "id": "0b839706",
   "metadata": {},
   "outputs": [
    {
     "data": {
      "text/plain": [
       "salary_currency       20\n",
       "employee_residence    78\n",
       "dtype: int64"
      ]
     },
     "execution_count": 11,
     "metadata": {},
     "output_type": "execute_result"
    }
   ],
   "source": [
    "df[['salary_currency','employee_residence']].nunique()"
   ]
  },
  {
   "cell_type": "code",
   "execution_count": 12,
   "id": "9fbbc41c",
   "metadata": {},
   "outputs": [],
   "source": [
    "from matplotlib import pyplot as plt\n",
    "import seaborn as sns"
   ]
  },
  {
   "cell_type": "code",
   "execution_count": 13,
   "id": "d77e1a3e",
   "metadata": {},
   "outputs": [
    {
     "data": {
      "text/plain": [
       "Text(0.5, 1.0, 'Salary Over The years')"
      ]
     },
     "execution_count": 13,
     "metadata": {},
     "output_type": "execute_result"
    },
    {
     "data": {
      "image/png": "[encoded data removed]",
      "text/plain": [
       "<Figure size 800x600 with 1 Axes>"
      ]
     },
     "metadata": {},
     "output_type": "display_data"
    }
   ],
   "source": [
    "x=df['employment_type']\n",
    "y=df['salary_in_usd']\n",
    "\n",
    "plt.figure(figsize=(8,6))\n",
    "\n",
    "sns.barplot(x=x, y=y,ci=None,hue=df['work_year'])\n",
    "plt.xlabel('Year')\n",
    "plt.ylabel('Salary')\n",
    "plt.title('Salary Over The years')\n"
   ]
  },
  {
   "cell_type": "markdown",
   "id": "817e33ea",
   "metadata": {},
   "source": [
    "###### An Increasing trend in salary over the years"
   ]
  },
  {
   "cell_type": "code",
   "execution_count": 14,
   "id": "ad6572d7",
   "metadata": {},
   "outputs": [
    {
     "data": {
      "text/plain": [
       "Text(0.5, 1.0, 'Work Experince and Salary')"
      ]
     },
     "execution_count": 14,
     "metadata": {},
     "output_type": "execute_result"
    },
    {
     "data": {
      "image/png": "[encoded data removed]",
      "text/plain": [
       "<Figure size 800x600 with 1 Axes>"
      ]
     },
     "metadata": {},
     "output_type": "display_data"
    }
   ],
   "source": [
    "x=df['experience_level']\n",
    "y=df['salary_in_usd']\n",
    "\n",
    "plt.figure(figsize=(8,6))\n",
    "\n",
    "sns.barplot(x=x,y=y,ci=None,hue=df.work_year)\n",
    "plt.xlabel('Experience')\n",
    "plt.ylabel('Salary')\n",
    "plt.title('Work Experince and Salary')\n"
   ]
  },
  {
   "cell_type": "markdown",
   "id": "442e978f",
   "metadata": {},
   "source": [
    "###### Higher Experience gives higher pay"
   ]
  },
  {
   "cell_type": "code",
   "execution_count": 15,
   "id": "f06f11d0",
   "metadata": {},
   "outputs": [
    {
     "data": {
      "text/plain": [
       "Text(0.5, 1.0, 'Employment Type and Salary')"
      ]
     },
     "execution_count": 15,
     "metadata": {},
     "output_type": "execute_result"
    },
    {
     "data": {
      "image/png": "[encoded data removed]",
      "text/plain": [
       "<Figure size 800x600 with 1 Axes>"
      ]
     },
     "metadata": {},
     "output_type": "display_data"
    }
   ],
   "source": [
    "x=df['employment_type']\n",
    "y=df['salary_in_usd']\n",
    "\n",
    "plt.figure(figsize=(8,6))\n",
    "\n",
    "sns.barplot(x=x,y=y,ci=None,hue=df.work_year)\n",
    "plt.xlabel('Type')\n",
    "plt.ylabel('Salary')\n",
    "plt.title('Employment Type and Salary')"
   ]
  },
  {
   "cell_type": "code",
   "execution_count": 16,
   "id": "426c2802",
   "metadata": {},
   "outputs": [],
   "source": [
    "best_jobs = df['job_title'].value_counts().iloc[:5]"
   ]
  },
  {
   "cell_type": "code",
   "execution_count": 17,
   "id": "bcd80753",
   "metadata": {},
   "outputs": [
    {
     "data": {
      "text/plain": [
       "Data Engineer                1040\n",
       "Data Scientist                840\n",
       "Data Analyst                  612\n",
       "Machine Learning Engineer     289\n",
       "Analytics Engineer            103\n",
       "Name: job_title, dtype: int64"
      ]
     },
     "execution_count": 17,
     "metadata": {},
     "output_type": "execute_result"
    }
   ],
   "source": [
    "best_jobs    "
   ]
  },
  {
   "cell_type": "code",
   "execution_count": 18,
   "id": "2e24dc0e",
   "metadata": {},
   "outputs": [
    {
     "data": {
      "text/plain": [
       "Text(0.5, 1.0, 'Most Demanded Jobs')"
      ]
     },
     "execution_count": 18,
     "metadata": {},
     "output_type": "execute_result"
    },
    {
     "data": {
      "image/png": "[encoded data removed]",
      "text/plain": [
       "<Figure size 1100x600 with 1 Axes>"
      ]
     },
     "metadata": {},
     "output_type": "display_data"
    }
   ],
   "source": [
    "x=best_jobs.index\n",
    "y=best_jobs.values\n",
    "\n",
    "plt.figure(figsize=(11,6))\n",
    "\n",
    "sns.barplot(x=x,y=y,ci=None)\n",
    "plt.xlabel('Job Title')\n",
    "plt.ylabel('Number')\n",
    "plt.title('Most Demanded Jobs')"
   ]
  },
  {
   "cell_type": "code",
   "execution_count": 19,
   "id": "02c5c68f",
   "metadata": {},
   "outputs": [
    {
     "data": {
      "text/plain": [
       "Text(0.5, 1.0, 'Salary and company size')"
      ]
     },
     "execution_count": 19,
     "metadata": {},
     "output_type": "execute_result"
    },
    {
     "data": {
      "image/png": "[encoded data removed]",
      "text/plain": [
       "<Figure size 800x600 with 1 Axes>"
      ]
     },
     "metadata": {},
     "output_type": "display_data"
    }
   ],
   "source": [
    "x=df['company_size']\n",
    "y=df['salary_in_usd']\n",
    "\n",
    "plt.figure(figsize=(8,6))\n",
    "\n",
    "sns.barplot(x=x,y=y,ci=None,hue=df.work_year)\n",
    "\n",
    "plt.xlabel('Comapny Size')\n",
    "plt.ylabel('Salary')\n",
    "plt.title('Salary and company size')"
   ]
  },
  {
   "cell_type": "markdown",
   "id": "3a605a6e",
   "metadata": {},
   "source": [
    "## Preprocess The Data"
   ]
  },
  {
   "cell_type": "code",
   "execution_count": 56,
   "id": "7cf34c91",
   "metadata": {},
   "outputs": [],
   "source": [
    "df_copy = df.copy()"
   ]
  },
  {
   "cell_type": "code",
   "execution_count": 57,
   "id": "94528ac9",
   "metadata": {},
   "outputs": [
    {
     "data": {
      "text/plain": [
       "Data Engineer                1040\n",
       "Data Scientist                840\n",
       "Data Analyst                  612\n",
       "Machine Learning Engineer     289\n",
       "Analytics Engineer            103\n",
       "Data Architect                101\n",
       "Research Scientist             82\n",
       "Data Science Manager           58\n",
       "Applied Scientist              58\n",
       "Research Engineer              37\n",
       "ML Engineer                    34\n",
       "Data Manager                   29\n",
       "Name: job_title, dtype: int64"
      ]
     },
     "execution_count": 57,
     "metadata": {},
     "output_type": "execute_result"
    }
   ],
   "source": [
    "df['job_title'].value_counts().iloc[:12]"
   ]
  },
  {
   "cell_type": "code",
   "execution_count": 58,
   "id": "0a9a875a",
   "metadata": {},
   "outputs": [],
   "source": [
    "def changejobtitle(value):\n",
    "    if value in ['Data Engineer','Data Scientist','Data Analyst','Machine Learning Engineer','Analytics Engineer','Data Architect','Research Scientist','Data Science Manager','Applied Scientist','Research Engineer','ML Engineer','Data Manager']:\n",
    "        return value\n",
    "    else:\n",
    "        return 'other'"
   ]
  },
  {
   "cell_type": "code",
   "execution_count": 59,
   "id": "b10ad238",
   "metadata": {},
   "outputs": [],
   "source": [
    "df_copy['job_title'] = df_copy['job_title'].apply(changejobtitle)"
   ]
  },
  {
   "cell_type": "code",
   "execution_count": 60,
   "id": "51f1b672",
   "metadata": {},
   "outputs": [
    {
     "data": {
      "text/plain": [
       "Data Engineer                1040\n",
       "Data Scientist                840\n",
       "Data Analyst                  612\n",
       "other                         472\n",
       "Machine Learning Engineer     289\n",
       "Analytics Engineer            103\n",
       "Data Architect                101\n",
       "Research Scientist             82\n",
       "Applied Scientist              58\n",
       "Data Science Manager           58\n",
       "Research Engineer              37\n",
       "ML Engineer                    34\n",
       "Data Manager                   29\n",
       "Name: job_title, dtype: int64"
      ]
     },
     "execution_count": 60,
     "metadata": {},
     "output_type": "execute_result"
    }
   ],
   "source": [
    "df_copy['job_title'].value_counts()"
   ]
  },
  {
   "cell_type": "code",
   "execution_count": 62,
   "id": "21e1b51d",
   "metadata": {},
   "outputs": [
    {
     "data": {
      "text/html": [
       "<div>\n",
       "<style scoped>\n",
       "    .dataframe tbody tr th:only-of-type {\n",
       "        vertical-align: middle;\n",
       "    }\n",
       "\n",
       "    .dataframe tbody tr th {\n",
       "        vertical-align: top;\n",
       "    }\n",
       "\n",
       "    .dataframe thead th {\n",
       "        text-align: right;\n",
       "    }\n",
       "</style>\n",
       "<table border=\"1\" class=\"dataframe\">\n",
       "  <thead>\n",
       "    <tr style=\"text-align: right;\">\n",
       "      <th></th>\n",
       "      <th>work_year</th>\n",
       "      <th>experience_level</th>\n",
       "      <th>employment_type</th>\n",
       "      <th>job_title</th>\n",
       "      <th>salary</th>\n",
       "      <th>salary_currency</th>\n",
       "      <th>salary_in_usd</th>\n",
       "      <th>employee_residence</th>\n",
       "      <th>remote_ratio</th>\n",
       "      <th>company_location</th>\n",
       "      <th>company_size</th>\n",
       "    </tr>\n",
       "  </thead>\n",
       "  <tbody>\n",
       "    <tr>\n",
       "      <th>0</th>\n",
       "      <td>2023</td>\n",
       "      <td>3</td>\n",
       "      <td>2</td>\n",
       "      <td>12</td>\n",
       "      <td>80000</td>\n",
       "      <td>EUR</td>\n",
       "      <td>85847</td>\n",
       "      <td>ES</td>\n",
       "      <td>100</td>\n",
       "      <td>ES</td>\n",
       "      <td>0</td>\n",
       "    </tr>\n",
       "    <tr>\n",
       "      <th>1</th>\n",
       "      <td>2023</td>\n",
       "      <td>2</td>\n",
       "      <td>0</td>\n",
       "      <td>8</td>\n",
       "      <td>30000</td>\n",
       "      <td>USD</td>\n",
       "      <td>30000</td>\n",
       "      <td>US</td>\n",
       "      <td>100</td>\n",
       "      <td>US</td>\n",
       "      <td>2</td>\n",
       "    </tr>\n",
       "    <tr>\n",
       "      <th>2</th>\n",
       "      <td>2023</td>\n",
       "      <td>2</td>\n",
       "      <td>0</td>\n",
       "      <td>8</td>\n",
       "      <td>25500</td>\n",
       "      <td>USD</td>\n",
       "      <td>25500</td>\n",
       "      <td>US</td>\n",
       "      <td>100</td>\n",
       "      <td>US</td>\n",
       "      <td>2</td>\n",
       "    </tr>\n",
       "    <tr>\n",
       "      <th>3</th>\n",
       "      <td>2023</td>\n",
       "      <td>3</td>\n",
       "      <td>2</td>\n",
       "      <td>7</td>\n",
       "      <td>175000</td>\n",
       "      <td>USD</td>\n",
       "      <td>175000</td>\n",
       "      <td>CA</td>\n",
       "      <td>100</td>\n",
       "      <td>CA</td>\n",
       "      <td>1</td>\n",
       "    </tr>\n",
       "    <tr>\n",
       "      <th>4</th>\n",
       "      <td>2023</td>\n",
       "      <td>3</td>\n",
       "      <td>2</td>\n",
       "      <td>7</td>\n",
       "      <td>120000</td>\n",
       "      <td>USD</td>\n",
       "      <td>120000</td>\n",
       "      <td>CA</td>\n",
       "      <td>100</td>\n",
       "      <td>CA</td>\n",
       "      <td>1</td>\n",
       "    </tr>\n",
       "  </tbody>\n",
       "</table>\n",
       "</div>"
      ],
      "text/plain": [
       "   work_year  experience_level  employment_type  job_title  salary  \\\n",
       "0       2023                 3                2         12   80000   \n",
       "1       2023                 2                0          8   30000   \n",
       "2       2023                 2                0          8   25500   \n",
       "3       2023                 3                2          7  175000   \n",
       "4       2023                 3                2          7  120000   \n",
       "\n",
       "  salary_currency  salary_in_usd employee_residence  remote_ratio  \\\n",
       "0             EUR          85847                 ES           100   \n",
       "1             USD          30000                 US           100   \n",
       "2             USD          25500                 US           100   \n",
       "3             USD         175000                 CA           100   \n",
       "4             USD         120000                 CA           100   \n",
       "\n",
       "  company_location  company_size  \n",
       "0               ES             0  \n",
       "1               US             2  \n",
       "2               US             2  \n",
       "3               CA             1  \n",
       "4               CA             1  "
      ]
     },
     "execution_count": 62,
     "metadata": {},
     "output_type": "execute_result"
    }
   ],
   "source": [
    "from sklearn.preprocessing import LabelEncoder\n",
    "le = LabelEncoder()\n",
    "df_copy['employment_type'] = le.fit_transform(df_copy['employment_type'])\n",
    "df_copy['experience_level'] = le.fit_transform(df_copy['experience_level'])\n",
    "df_copy['company_size'] = le.fit_transform(df_copy['company_size'])\n",
    "df_copy['job_title'] = le.fit_transform(df_copy['job_title'])\n",
    "df_copy.head()"
   ]
  },
  {
   "cell_type": "code",
   "execution_count": 63,
   "id": "12cc64b8",
   "metadata": {},
   "outputs": [
    {
     "data": {
      "text/plain": [
       "USD    3224\n",
       "EUR     236\n",
       "GBP     161\n",
       "INR      60\n",
       "CAD      25\n",
       "Name: salary_currency, dtype: int64"
      ]
     },
     "execution_count": 63,
     "metadata": {},
     "output_type": "execute_result"
    }
   ],
   "source": [
    "df_copy.salary_currency.value_counts().iloc[:5]"
   ]
  },
  {
   "cell_type": "code",
   "execution_count": 64,
   "id": "df1234a9",
   "metadata": {},
   "outputs": [],
   "source": [
    "def changecurrencytitle(value):\n",
    "    if value in ['USD','EUR','GBP','INR','CAD']:\n",
    "        return value\n",
    "    else:\n",
    "        return 'other'"
   ]
  },
  {
   "cell_type": "code",
   "execution_count": 65,
   "id": "5e15544e",
   "metadata": {},
   "outputs": [],
   "source": [
    "df_copy['salary_currency'] = df_copy['salary_currency'].apply(changecurrencytitle)"
   ]
  },
  {
   "cell_type": "code",
   "execution_count": 66,
   "id": "0e51d8a4",
   "metadata": {},
   "outputs": [
    {
     "data": {
      "text/plain": [
       "USD      3224\n",
       "EUR       236\n",
       "GBP       161\n",
       "INR        60\n",
       "other      49\n",
       "CAD        25\n",
       "Name: salary_currency, dtype: int64"
      ]
     },
     "execution_count": 66,
     "metadata": {},
     "output_type": "execute_result"
    }
   ],
   "source": [
    "df_copy['salary_currency'].value_counts()"
   ]
  },
  {
   "cell_type": "code",
   "execution_count": 78,
   "id": "ecbf55bd",
   "metadata": {},
   "outputs": [
    {
     "data": {
      "text/plain": [
       "US       3004\n",
       "other     262\n",
       "GB        167\n",
       "CA         85\n",
       "ES         80\n",
       "IN         71\n",
       "DE         48\n",
       "Name: employee_residence, dtype: int64"
      ]
     },
     "execution_count": 78,
     "metadata": {},
     "output_type": "execute_result"
    }
   ],
   "source": [
    "df_copy.employee_residence.value_counts().iloc[0:7]"
   ]
  },
  {
   "cell_type": "code",
   "execution_count": 73,
   "id": "9b3499a2",
   "metadata": {},
   "outputs": [],
   "source": [
    "def changeresidencetitle(value):\n",
    "    if value in ['US','GB','ES','IN','CA','DE','FR']:\n",
    "        return value\n",
    "    else:\n",
    "        return 'other'"
   ]
  },
  {
   "cell_type": "code",
   "execution_count": 74,
   "id": "b89073ef",
   "metadata": {},
   "outputs": [],
   "source": [
    "df_copy['employee_residence'] = df_copy['employee_residence'].apply(changeresidencetitle)"
   ]
  },
  {
   "cell_type": "code",
   "execution_count": 76,
   "id": "4dc82676",
   "metadata": {},
   "outputs": [
    {
     "data": {
      "text/plain": [
       "US       3004\n",
       "other     262\n",
       "GB        167\n",
       "CA         85\n",
       "ES         80\n",
       "IN         71\n",
       "DE         48\n",
       "FR         38\n",
       "Name: employee_residence, dtype: int64"
      ]
     },
     "execution_count": 76,
     "metadata": {},
     "output_type": "execute_result"
    }
   ],
   "source": [
    "df_copy.employee_residence.value_counts()"
   ]
  },
  {
   "cell_type": "code",
   "execution_count": 80,
   "id": "ba09009e",
   "metadata": {},
   "outputs": [
    {
     "data": {
      "text/plain": [
       "US    3040\n",
       "GB     172\n",
       "CA      87\n",
       "ES      77\n",
       "IN      58\n",
       "DE      56\n",
       "Name: company_location, dtype: int64"
      ]
     },
     "execution_count": 80,
     "metadata": {},
     "output_type": "execute_result"
    }
   ],
   "source": [
    "df_copy.company_location.value_counts().iloc[0:6]"
   ]
  },
  {
   "cell_type": "code",
   "execution_count": 81,
   "id": "c120bedd",
   "metadata": {},
   "outputs": [],
   "source": [
    "def changeloctitle(value):\n",
    "    if value in ['US','GB','ES','IN','CA','DE']:\n",
    "        return value\n",
    "    else:\n",
    "        return 'other'"
   ]
  },
  {
   "cell_type": "code",
   "execution_count": 82,
   "id": "f0f3900c",
   "metadata": {},
   "outputs": [],
   "source": [
    "df_copy['company_location'] = df_copy['company_location'].apply(changeresidencetitle)"
   ]
  },
  {
   "cell_type": "code",
   "execution_count": 83,
   "id": "8c83d880",
   "metadata": {},
   "outputs": [
    {
     "data": {
      "text/html": [
       "<div>\n",
       "<style scoped>\n",
       "    .dataframe tbody tr th:only-of-type {\n",
       "        vertical-align: middle;\n",
       "    }\n",
       "\n",
       "    .dataframe tbody tr th {\n",
       "        vertical-align: top;\n",
       "    }\n",
       "\n",
       "    .dataframe thead th {\n",
       "        text-align: right;\n",
       "    }\n",
       "</style>\n",
       "<table border=\"1\" class=\"dataframe\">\n",
       "  <thead>\n",
       "    <tr style=\"text-align: right;\">\n",
       "      <th></th>\n",
       "      <th>work_year</th>\n",
       "      <th>experience_level</th>\n",
       "      <th>employment_type</th>\n",
       "      <th>job_title</th>\n",
       "      <th>salary</th>\n",
       "      <th>salary_currency</th>\n",
       "      <th>salary_in_usd</th>\n",
       "      <th>employee_residence</th>\n",
       "      <th>remote_ratio</th>\n",
       "      <th>company_location</th>\n",
       "      <th>company_size</th>\n",
       "    </tr>\n",
       "  </thead>\n",
       "  <tbody>\n",
       "    <tr>\n",
       "      <th>0</th>\n",
       "      <td>2023</td>\n",
       "      <td>3</td>\n",
       "      <td>2</td>\n",
       "      <td>12</td>\n",
       "      <td>80000</td>\n",
       "      <td>EUR</td>\n",
       "      <td>85847</td>\n",
       "      <td>ES</td>\n",
       "      <td>100</td>\n",
       "      <td>ES</td>\n",
       "      <td>0</td>\n",
       "    </tr>\n",
       "    <tr>\n",
       "      <th>1</th>\n",
       "      <td>2023</td>\n",
       "      <td>2</td>\n",
       "      <td>0</td>\n",
       "      <td>8</td>\n",
       "      <td>30000</td>\n",
       "      <td>USD</td>\n",
       "      <td>30000</td>\n",
       "      <td>US</td>\n",
       "      <td>100</td>\n",
       "      <td>US</td>\n",
       "      <td>2</td>\n",
       "    </tr>\n",
       "    <tr>\n",
       "      <th>2</th>\n",
       "      <td>2023</td>\n",
       "      <td>2</td>\n",
       "      <td>0</td>\n",
       "      <td>8</td>\n",
       "      <td>25500</td>\n",
       "      <td>USD</td>\n",
       "      <td>25500</td>\n",
       "      <td>US</td>\n",
       "      <td>100</td>\n",
       "      <td>US</td>\n",
       "      <td>2</td>\n",
       "    </tr>\n",
       "    <tr>\n",
       "      <th>3</th>\n",
       "      <td>2023</td>\n",
       "      <td>3</td>\n",
       "      <td>2</td>\n",
       "      <td>7</td>\n",
       "      <td>175000</td>\n",
       "      <td>USD</td>\n",
       "      <td>175000</td>\n",
       "      <td>CA</td>\n",
       "      <td>100</td>\n",
       "      <td>CA</td>\n",
       "      <td>1</td>\n",
       "    </tr>\n",
       "    <tr>\n",
       "      <th>4</th>\n",
       "      <td>2023</td>\n",
       "      <td>3</td>\n",
       "      <td>2</td>\n",
       "      <td>7</td>\n",
       "      <td>120000</td>\n",
       "      <td>USD</td>\n",
       "      <td>120000</td>\n",
       "      <td>CA</td>\n",
       "      <td>100</td>\n",
       "      <td>CA</td>\n",
       "      <td>1</td>\n",
       "    </tr>\n",
       "    <tr>\n",
       "      <th>...</th>\n",
       "      <td>...</td>\n",
       "      <td>...</td>\n",
       "      <td>...</td>\n",
       "      <td>...</td>\n",
       "      <td>...</td>\n",
       "      <td>...</td>\n",
       "      <td>...</td>\n",
       "      <td>...</td>\n",
       "      <td>...</td>\n",
       "      <td>...</td>\n",
       "      <td>...</td>\n",
       "    </tr>\n",
       "    <tr>\n",
       "      <th>3750</th>\n",
       "      <td>2020</td>\n",
       "      <td>3</td>\n",
       "      <td>2</td>\n",
       "      <td>7</td>\n",
       "      <td>412000</td>\n",
       "      <td>USD</td>\n",
       "      <td>412000</td>\n",
       "      <td>US</td>\n",
       "      <td>100</td>\n",
       "      <td>US</td>\n",
       "      <td>0</td>\n",
       "    </tr>\n",
       "    <tr>\n",
       "      <th>3751</th>\n",
       "      <td>2021</td>\n",
       "      <td>2</td>\n",
       "      <td>2</td>\n",
       "      <td>12</td>\n",
       "      <td>151000</td>\n",
       "      <td>USD</td>\n",
       "      <td>151000</td>\n",
       "      <td>US</td>\n",
       "      <td>100</td>\n",
       "      <td>US</td>\n",
       "      <td>0</td>\n",
       "    </tr>\n",
       "    <tr>\n",
       "      <th>3752</th>\n",
       "      <td>2020</td>\n",
       "      <td>0</td>\n",
       "      <td>2</td>\n",
       "      <td>7</td>\n",
       "      <td>105000</td>\n",
       "      <td>USD</td>\n",
       "      <td>105000</td>\n",
       "      <td>US</td>\n",
       "      <td>100</td>\n",
       "      <td>US</td>\n",
       "      <td>2</td>\n",
       "    </tr>\n",
       "    <tr>\n",
       "      <th>3753</th>\n",
       "      <td>2020</td>\n",
       "      <td>0</td>\n",
       "      <td>0</td>\n",
       "      <td>12</td>\n",
       "      <td>100000</td>\n",
       "      <td>USD</td>\n",
       "      <td>100000</td>\n",
       "      <td>US</td>\n",
       "      <td>100</td>\n",
       "      <td>US</td>\n",
       "      <td>0</td>\n",
       "    </tr>\n",
       "    <tr>\n",
       "      <th>3754</th>\n",
       "      <td>2021</td>\n",
       "      <td>3</td>\n",
       "      <td>2</td>\n",
       "      <td>6</td>\n",
       "      <td>7000000</td>\n",
       "      <td>INR</td>\n",
       "      <td>94665</td>\n",
       "      <td>IN</td>\n",
       "      <td>50</td>\n",
       "      <td>IN</td>\n",
       "      <td>0</td>\n",
       "    </tr>\n",
       "  </tbody>\n",
       "</table>\n",
       "<p>3755 rows × 11 columns</p>\n",
       "</div>"
      ],
      "text/plain": [
       "      work_year  experience_level  employment_type  job_title   salary  \\\n",
       "0          2023                 3                2         12    80000   \n",
       "1          2023                 2                0          8    30000   \n",
       "2          2023                 2                0          8    25500   \n",
       "3          2023                 3                2          7   175000   \n",
       "4          2023                 3                2          7   120000   \n",
       "...         ...               ...              ...        ...      ...   \n",
       "3750       2020                 3                2          7   412000   \n",
       "3751       2021                 2                2         12   151000   \n",
       "3752       2020                 0                2          7   105000   \n",
       "3753       2020                 0                0         12   100000   \n",
       "3754       2021                 3                2          6  7000000   \n",
       "\n",
       "     salary_currency  salary_in_usd employee_residence  remote_ratio  \\\n",
       "0                EUR          85847                 ES           100   \n",
       "1                USD          30000                 US           100   \n",
       "2                USD          25500                 US           100   \n",
       "3                USD         175000                 CA           100   \n",
       "4                USD         120000                 CA           100   \n",
       "...              ...            ...                ...           ...   \n",
       "3750             USD         412000                 US           100   \n",
       "3751             USD         151000                 US           100   \n",
       "3752             USD         105000                 US           100   \n",
       "3753             USD         100000                 US           100   \n",
       "3754             INR          94665                 IN            50   \n",
       "\n",
       "     company_location  company_size  \n",
       "0                  ES             0  \n",
       "1                  US             2  \n",
       "2                  US             2  \n",
       "3                  CA             1  \n",
       "4                  CA             1  \n",
       "...               ...           ...  \n",
       "3750               US             0  \n",
       "3751               US             0  \n",
       "3752               US             2  \n",
       "3753               US             0  \n",
       "3754               IN             0  \n",
       "\n",
       "[3755 rows x 11 columns]"
      ]
     },
     "execution_count": 83,
     "metadata": {},
     "output_type": "execute_result"
    }
   ],
   "source": [
    "df_copy"
   ]
  },
  {
   "cell_type": "code",
   "execution_count": 84,
   "id": "c06965d4",
   "metadata": {},
   "outputs": [],
   "source": [
    "df_copy['employee_residence'] = le.fit_transform(df_copy['employee_residence'])\n",
    "df_copy['salary_currency'] = le.fit_transform(df_copy['salary_currency'])\n",
    "df_copy['company_location'] = le.fit_transform(df_copy['company_location'])"
   ]
  },
  {
   "cell_type": "code",
   "execution_count": 86,
   "id": "a641e4c1",
   "metadata": {},
   "outputs": [
    {
     "data": {
      "text/html": [
       "<div>\n",
       "<style scoped>\n",
       "    .dataframe tbody tr th:only-of-type {\n",
       "        vertical-align: middle;\n",
       "    }\n",
       "\n",
       "    .dataframe tbody tr th {\n",
       "        vertical-align: top;\n",
       "    }\n",
       "\n",
       "    .dataframe thead th {\n",
       "        text-align: right;\n",
       "    }\n",
       "</style>\n",
       "<table border=\"1\" class=\"dataframe\">\n",
       "  <thead>\n",
       "    <tr style=\"text-align: right;\">\n",
       "      <th></th>\n",
       "      <th>work_year</th>\n",
       "      <th>experience_level</th>\n",
       "      <th>employment_type</th>\n",
       "      <th>job_title</th>\n",
       "      <th>salary</th>\n",
       "      <th>salary_currency</th>\n",
       "      <th>salary_in_usd</th>\n",
       "      <th>employee_residence</th>\n",
       "      <th>remote_ratio</th>\n",
       "      <th>company_location</th>\n",
       "      <th>company_size</th>\n",
       "    </tr>\n",
       "  </thead>\n",
       "  <tbody>\n",
       "    <tr>\n",
       "      <th>0</th>\n",
       "      <td>2023</td>\n",
       "      <td>3</td>\n",
       "      <td>2</td>\n",
       "      <td>12</td>\n",
       "      <td>80000</td>\n",
       "      <td>1</td>\n",
       "      <td>85847</td>\n",
       "      <td>2</td>\n",
       "      <td>100</td>\n",
       "      <td>2</td>\n",
       "      <td>0</td>\n",
       "    </tr>\n",
       "    <tr>\n",
       "      <th>1</th>\n",
       "      <td>2023</td>\n",
       "      <td>2</td>\n",
       "      <td>0</td>\n",
       "      <td>8</td>\n",
       "      <td>30000</td>\n",
       "      <td>4</td>\n",
       "      <td>30000</td>\n",
       "      <td>6</td>\n",
       "      <td>100</td>\n",
       "      <td>6</td>\n",
       "      <td>2</td>\n",
       "    </tr>\n",
       "    <tr>\n",
       "      <th>2</th>\n",
       "      <td>2023</td>\n",
       "      <td>2</td>\n",
       "      <td>0</td>\n",
       "      <td>8</td>\n",
       "      <td>25500</td>\n",
       "      <td>4</td>\n",
       "      <td>25500</td>\n",
       "      <td>6</td>\n",
       "      <td>100</td>\n",
       "      <td>6</td>\n",
       "      <td>2</td>\n",
       "    </tr>\n",
       "    <tr>\n",
       "      <th>3</th>\n",
       "      <td>2023</td>\n",
       "      <td>3</td>\n",
       "      <td>2</td>\n",
       "      <td>7</td>\n",
       "      <td>175000</td>\n",
       "      <td>4</td>\n",
       "      <td>175000</td>\n",
       "      <td>0</td>\n",
       "      <td>100</td>\n",
       "      <td>0</td>\n",
       "      <td>1</td>\n",
       "    </tr>\n",
       "    <tr>\n",
       "      <th>4</th>\n",
       "      <td>2023</td>\n",
       "      <td>3</td>\n",
       "      <td>2</td>\n",
       "      <td>7</td>\n",
       "      <td>120000</td>\n",
       "      <td>4</td>\n",
       "      <td>120000</td>\n",
       "      <td>0</td>\n",
       "      <td>100</td>\n",
       "      <td>0</td>\n",
       "      <td>1</td>\n",
       "    </tr>\n",
       "    <tr>\n",
       "      <th>...</th>\n",
       "      <td>...</td>\n",
       "      <td>...</td>\n",
       "      <td>...</td>\n",
       "      <td>...</td>\n",
       "      <td>...</td>\n",
       "      <td>...</td>\n",
       "      <td>...</td>\n",
       "      <td>...</td>\n",
       "      <td>...</td>\n",
       "      <td>...</td>\n",
       "      <td>...</td>\n",
       "    </tr>\n",
       "    <tr>\n",
       "      <th>3750</th>\n",
       "      <td>2020</td>\n",
       "      <td>3</td>\n",
       "      <td>2</td>\n",
       "      <td>7</td>\n",
       "      <td>412000</td>\n",
       "      <td>4</td>\n",
       "      <td>412000</td>\n",
       "      <td>6</td>\n",
       "      <td>100</td>\n",
       "      <td>6</td>\n",
       "      <td>0</td>\n",
       "    </tr>\n",
       "    <tr>\n",
       "      <th>3751</th>\n",
       "      <td>2021</td>\n",
       "      <td>2</td>\n",
       "      <td>2</td>\n",
       "      <td>12</td>\n",
       "      <td>151000</td>\n",
       "      <td>4</td>\n",
       "      <td>151000</td>\n",
       "      <td>6</td>\n",
       "      <td>100</td>\n",
       "      <td>6</td>\n",
       "      <td>0</td>\n",
       "    </tr>\n",
       "    <tr>\n",
       "      <th>3752</th>\n",
       "      <td>2020</td>\n",
       "      <td>0</td>\n",
       "      <td>2</td>\n",
       "      <td>7</td>\n",
       "      <td>105000</td>\n",
       "      <td>4</td>\n",
       "      <td>105000</td>\n",
       "      <td>6</td>\n",
       "      <td>100</td>\n",
       "      <td>6</td>\n",
       "      <td>2</td>\n",
       "    </tr>\n",
       "    <tr>\n",
       "      <th>3753</th>\n",
       "      <td>2020</td>\n",
       "      <td>0</td>\n",
       "      <td>0</td>\n",
       "      <td>12</td>\n",
       "      <td>100000</td>\n",
       "      <td>4</td>\n",
       "      <td>100000</td>\n",
       "      <td>6</td>\n",
       "      <td>100</td>\n",
       "      <td>6</td>\n",
       "      <td>0</td>\n",
       "    </tr>\n",
       "    <tr>\n",
       "      <th>3754</th>\n",
       "      <td>2021</td>\n",
       "      <td>3</td>\n",
       "      <td>2</td>\n",
       "      <td>6</td>\n",
       "      <td>7000000</td>\n",
       "      <td>3</td>\n",
       "      <td>94665</td>\n",
       "      <td>5</td>\n",
       "      <td>50</td>\n",
       "      <td>5</td>\n",
       "      <td>0</td>\n",
       "    </tr>\n",
       "  </tbody>\n",
       "</table>\n",
       "<p>3755 rows × 11 columns</p>\n",
       "</div>"
      ],
      "text/plain": [
       "      work_year  experience_level  employment_type  job_title   salary  \\\n",
       "0          2023                 3                2         12    80000   \n",
       "1          2023                 2                0          8    30000   \n",
       "2          2023                 2                0          8    25500   \n",
       "3          2023                 3                2          7   175000   \n",
       "4          2023                 3                2          7   120000   \n",
       "...         ...               ...              ...        ...      ...   \n",
       "3750       2020                 3                2          7   412000   \n",
       "3751       2021                 2                2         12   151000   \n",
       "3752       2020                 0                2          7   105000   \n",
       "3753       2020                 0                0         12   100000   \n",
       "3754       2021                 3                2          6  7000000   \n",
       "\n",
       "      salary_currency  salary_in_usd  employee_residence  remote_ratio  \\\n",
       "0                   1          85847                   2           100   \n",
       "1                   4          30000                   6           100   \n",
       "2                   4          25500                   6           100   \n",
       "3                   4         175000                   0           100   \n",
       "4                   4         120000                   0           100   \n",
       "...               ...            ...                 ...           ...   \n",
       "3750                4         412000                   6           100   \n",
       "3751                4         151000                   6           100   \n",
       "3752                4         105000                   6           100   \n",
       "3753                4         100000                   6           100   \n",
       "3754                3          94665                   5            50   \n",
       "\n",
       "      company_location  company_size  \n",
       "0                    2             0  \n",
       "1                    6             2  \n",
       "2                    6             2  \n",
       "3                    0             1  \n",
       "4                    0             1  \n",
       "...                ...           ...  \n",
       "3750                 6             0  \n",
       "3751                 6             0  \n",
       "3752                 6             2  \n",
       "3753                 6             0  \n",
       "3754                 5             0  \n",
       "\n",
       "[3755 rows x 11 columns]"
      ]
     },
     "execution_count": 86,
     "metadata": {},
     "output_type": "execute_result"
    }
   ],
   "source": [
    "df_copy"
   ]
  },
  {
   "cell_type": "code",
   "execution_count": 87,
   "id": "e37254a7",
   "metadata": {},
   "outputs": [
    {
     "data": {
      "text/html": [
       "<div>\n",
       "<style scoped>\n",
       "    .dataframe tbody tr th:only-of-type {\n",
       "        vertical-align: middle;\n",
       "    }\n",
       "\n",
       "    .dataframe tbody tr th {\n",
       "        vertical-align: top;\n",
       "    }\n",
       "\n",
       "    .dataframe thead th {\n",
       "        text-align: right;\n",
       "    }\n",
       "</style>\n",
       "<table border=\"1\" class=\"dataframe\">\n",
       "  <thead>\n",
       "    <tr style=\"text-align: right;\">\n",
       "      <th></th>\n",
       "      <th>work_year</th>\n",
       "      <th>experience_level</th>\n",
       "      <th>employment_type</th>\n",
       "      <th>job_title</th>\n",
       "      <th>salary</th>\n",
       "      <th>salary_currency</th>\n",
       "      <th>salary_in_usd</th>\n",
       "      <th>employee_residence</th>\n",
       "      <th>remote_ratio</th>\n",
       "      <th>company_location</th>\n",
       "      <th>company_size</th>\n",
       "    </tr>\n",
       "  </thead>\n",
       "  <tbody>\n",
       "    <tr>\n",
       "      <th>0</th>\n",
       "      <td>2023</td>\n",
       "      <td>3</td>\n",
       "      <td>2</td>\n",
       "      <td>12</td>\n",
       "      <td>80000</td>\n",
       "      <td>1</td>\n",
       "      <td>85847</td>\n",
       "      <td>2</td>\n",
       "      <td>100</td>\n",
       "      <td>2</td>\n",
       "      <td>0</td>\n",
       "    </tr>\n",
       "    <tr>\n",
       "      <th>1</th>\n",
       "      <td>2023</td>\n",
       "      <td>2</td>\n",
       "      <td>0</td>\n",
       "      <td>8</td>\n",
       "      <td>30000</td>\n",
       "      <td>4</td>\n",
       "      <td>30000</td>\n",
       "      <td>6</td>\n",
       "      <td>100</td>\n",
       "      <td>6</td>\n",
       "      <td>2</td>\n",
       "    </tr>\n",
       "    <tr>\n",
       "      <th>2</th>\n",
       "      <td>2023</td>\n",
       "      <td>2</td>\n",
       "      <td>0</td>\n",
       "      <td>8</td>\n",
       "      <td>25500</td>\n",
       "      <td>4</td>\n",
       "      <td>25500</td>\n",
       "      <td>6</td>\n",
       "      <td>100</td>\n",
       "      <td>6</td>\n",
       "      <td>2</td>\n",
       "    </tr>\n",
       "    <tr>\n",
       "      <th>3</th>\n",
       "      <td>2023</td>\n",
       "      <td>3</td>\n",
       "      <td>2</td>\n",
       "      <td>7</td>\n",
       "      <td>175000</td>\n",
       "      <td>4</td>\n",
       "      <td>175000</td>\n",
       "      <td>0</td>\n",
       "      <td>100</td>\n",
       "      <td>0</td>\n",
       "      <td>1</td>\n",
       "    </tr>\n",
       "    <tr>\n",
       "      <th>4</th>\n",
       "      <td>2023</td>\n",
       "      <td>3</td>\n",
       "      <td>2</td>\n",
       "      <td>7</td>\n",
       "      <td>120000</td>\n",
       "      <td>4</td>\n",
       "      <td>120000</td>\n",
       "      <td>0</td>\n",
       "      <td>100</td>\n",
       "      <td>0</td>\n",
       "      <td>1</td>\n",
       "    </tr>\n",
       "    <tr>\n",
       "      <th>...</th>\n",
       "      <td>...</td>\n",
       "      <td>...</td>\n",
       "      <td>...</td>\n",
       "      <td>...</td>\n",
       "      <td>...</td>\n",
       "      <td>...</td>\n",
       "      <td>...</td>\n",
       "      <td>...</td>\n",
       "      <td>...</td>\n",
       "      <td>...</td>\n",
       "      <td>...</td>\n",
       "    </tr>\n",
       "    <tr>\n",
       "      <th>3750</th>\n",
       "      <td>2020</td>\n",
       "      <td>3</td>\n",
       "      <td>2</td>\n",
       "      <td>7</td>\n",
       "      <td>412000</td>\n",
       "      <td>4</td>\n",
       "      <td>412000</td>\n",
       "      <td>6</td>\n",
       "      <td>100</td>\n",
       "      <td>6</td>\n",
       "      <td>0</td>\n",
       "    </tr>\n",
       "    <tr>\n",
       "      <th>3751</th>\n",
       "      <td>2021</td>\n",
       "      <td>2</td>\n",
       "      <td>2</td>\n",
       "      <td>12</td>\n",
       "      <td>151000</td>\n",
       "      <td>4</td>\n",
       "      <td>151000</td>\n",
       "      <td>6</td>\n",
       "      <td>100</td>\n",
       "      <td>6</td>\n",
       "      <td>0</td>\n",
       "    </tr>\n",
       "    <tr>\n",
       "      <th>3752</th>\n",
       "      <td>2020</td>\n",
       "      <td>0</td>\n",
       "      <td>2</td>\n",
       "      <td>7</td>\n",
       "      <td>105000</td>\n",
       "      <td>4</td>\n",
       "      <td>105000</td>\n",
       "      <td>6</td>\n",
       "      <td>100</td>\n",
       "      <td>6</td>\n",
       "      <td>2</td>\n",
       "    </tr>\n",
       "    <tr>\n",
       "      <th>3753</th>\n",
       "      <td>2020</td>\n",
       "      <td>0</td>\n",
       "      <td>0</td>\n",
       "      <td>12</td>\n",
       "      <td>100000</td>\n",
       "      <td>4</td>\n",
       "      <td>100000</td>\n",
       "      <td>6</td>\n",
       "      <td>100</td>\n",
       "      <td>6</td>\n",
       "      <td>0</td>\n",
       "    </tr>\n",
       "    <tr>\n",
       "      <th>3754</th>\n",
       "      <td>2021</td>\n",
       "      <td>3</td>\n",
       "      <td>2</td>\n",
       "      <td>6</td>\n",
       "      <td>7000000</td>\n",
       "      <td>3</td>\n",
       "      <td>94665</td>\n",
       "      <td>5</td>\n",
       "      <td>50</td>\n",
       "      <td>5</td>\n",
       "      <td>0</td>\n",
       "    </tr>\n",
       "  </tbody>\n",
       "</table>\n",
       "<p>2567 rows × 11 columns</p>\n",
       "</div>"
      ],
      "text/plain": [
       "      work_year  experience_level  employment_type  job_title   salary  \\\n",
       "0          2023                 3                2         12    80000   \n",
       "1          2023                 2                0          8    30000   \n",
       "2          2023                 2                0          8    25500   \n",
       "3          2023                 3                2          7   175000   \n",
       "4          2023                 3                2          7   120000   \n",
       "...         ...               ...              ...        ...      ...   \n",
       "3750       2020                 3                2          7   412000   \n",
       "3751       2021                 2                2         12   151000   \n",
       "3752       2020                 0                2          7   105000   \n",
       "3753       2020                 0                0         12   100000   \n",
       "3754       2021                 3                2          6  7000000   \n",
       "\n",
       "      salary_currency  salary_in_usd  employee_residence  remote_ratio  \\\n",
       "0                   1          85847                   2           100   \n",
       "1                   4          30000                   6           100   \n",
       "2                   4          25500                   6           100   \n",
       "3                   4         175000                   0           100   \n",
       "4                   4         120000                   0           100   \n",
       "...               ...            ...                 ...           ...   \n",
       "3750                4         412000                   6           100   \n",
       "3751                4         151000                   6           100   \n",
       "3752                4         105000                   6           100   \n",
       "3753                4         100000                   6           100   \n",
       "3754                3          94665                   5            50   \n",
       "\n",
       "      company_location  company_size  \n",
       "0                    2             0  \n",
       "1                    6             2  \n",
       "2                    6             2  \n",
       "3                    0             1  \n",
       "4                    0             1  \n",
       "...                ...           ...  \n",
       "3750                 6             0  \n",
       "3751                 6             0  \n",
       "3752                 6             2  \n",
       "3753                 6             0  \n",
       "3754                 5             0  \n",
       "\n",
       "[2567 rows x 11 columns]"
      ]
     },
     "execution_count": 87,
     "metadata": {},
     "output_type": "execute_result"
    }
   ],
   "source": [
    "df_copy.drop_duplicates(keep = 'first')"
   ]
  },
  {
   "cell_type": "code",
   "execution_count": 100,
   "id": "7b1a43cf",
   "metadata": {},
   "outputs": [],
   "source": [
    "from sklearn.model_selection import train_test_split\n",
    "from sklearn.ensemble import RandomForestRegressor\n",
    "from sklearn.metrics import mean_absolute_error, accuracy_score\n",
    "from sklearn.model_selection import GridSearchCV"
   ]
  },
  {
   "cell_type": "code",
   "execution_count": 90,
   "id": "064f30d2",
   "metadata": {},
   "outputs": [],
   "source": [
    "x=df_copy.drop(columns='salary')\n",
    "x=df_copy.drop(columns='salary_in_usd')"
   ]
  },
  {
   "cell_type": "code",
   "execution_count": 92,
   "id": "43d84188",
   "metadata": {},
   "outputs": [],
   "source": [
    "y=df_copy.salary_in_usd"
   ]
  },
  {
   "cell_type": "code",
   "execution_count": 94,
   "id": "175d0296",
   "metadata": {},
   "outputs": [],
   "source": [
    "x_train, x_valid, y_train, y_valid = train_test_split(x,y, train_size=0.8, random_state=0)"
   ]
  },
  {
   "cell_type": "code",
   "execution_count": 125,
   "id": "f96801ee",
   "metadata": {},
   "outputs": [],
   "source": [
    "model = RandomForestRegressor(n_estimators=50, random_state=0)"
   ]
  },
  {
   "cell_type": "code",
   "execution_count": 126,
   "id": "085efbf8",
   "metadata": {},
   "outputs": [
    {
     "data": {
      "text/plain": [
       "RandomForestRegressor(n_estimators=50, random_state=0)"
      ]
     },
     "execution_count": 126,
     "metadata": {},
     "output_type": "execute_result"
    }
   ],
   "source": [
    "model.fit(x_train,y_train)"
   ]
  },
  {
   "cell_type": "code",
   "execution_count": 127,
   "id": "ffe7271e",
   "metadata": {},
   "outputs": [],
   "source": [
    "y_pred = model.predict(x_valid)"
   ]
  },
  {
   "cell_type": "code",
   "execution_count": 128,
   "id": "56b3790b",
   "metadata": {},
   "outputs": [
    {
     "name": "stdout",
     "output_type": "stream",
     "text": [
      "MEA RandomForestRegressor:  2477.1702529960053\n"
     ]
    }
   ],
   "source": [
    "mae = mean_absolute_error(y_valid, y_pred)\n",
    "\n",
    "print(\"MEA RandomForestRegressor: \", mae)"
   ]
  },
  {
   "cell_type": "code",
   "execution_count": 129,
   "id": "364ec41c",
   "metadata": {},
   "outputs": [
    {
     "data": {
      "text/plain": [
       "{'max_depth': 10,\n",
       " 'min_samples_leaf': 1,\n",
       " 'min_samples_split': 5,\n",
       " 'n_estimators': 100}"
      ]
     },
     "execution_count": 129,
     "metadata": {},
     "output_type": "execute_result"
    }
   ],
   "source": [
    "random_forest_tuning = RandomForestRegressor(random_state=0)\n",
    "\n",
    "param_grid = {\n",
    "    \"n_estimators\" : [50,100,200],\n",
    "    \"max_depth\" : [None, 5, 10], \n",
    "    \"min_samples_split\" : [2,5], \n",
    "    \"min_samples_leaf\" : [1,2] \n",
    "}\n",
    "\n",
    "GSCV = GridSearchCV(estimator=random_forest_tuning, param_grid=param_grid, cv=5)\n",
    "GSCV.fit(x_train, y_train)\n",
    "GSCV.best_params_ "
   ]
  },
  {
   "cell_type": "code",
   "execution_count": 130,
   "id": "a08801e4",
   "metadata": {},
   "outputs": [],
   "source": [
    "tuned_model = RandomForestRegressor(random_state=0, max_depth=10, min_samples_leaf=1, min_samples_split=5, n_estimators=100)"
   ]
  },
  {
   "cell_type": "code",
   "execution_count": 131,
   "id": "f6cddc12",
   "metadata": {},
   "outputs": [
    {
     "data": {
      "text/plain": [
       "RandomForestRegressor(max_depth=10, min_samples_split=5, random_state=0)"
      ]
     },
     "execution_count": 131,
     "metadata": {},
     "output_type": "execute_result"
    }
   ],
   "source": [
    "tuned_model.fit(x_train,y_train)"
   ]
  },
  {
   "cell_type": "code",
   "execution_count": 132,
   "id": "db9b4437",
   "metadata": {},
   "outputs": [],
   "source": [
    "y_pred = tuned_model.predict(x_valid)"
   ]
  },
  {
   "cell_type": "code",
   "execution_count": 133,
   "id": "d4d1b532",
   "metadata": {},
   "outputs": [
    {
     "name": "stdout",
     "output_type": "stream",
     "text": [
      "MEA RandomForestRegressor:  2467.267191521057\n"
     ]
    }
   ],
   "source": [
    "mae = mean_absolute_error(y_valid, y_pred)\n",
    "\n",
    "print(\"MEA RandomForestRegressor: \", mae)"
   ]
  },
  {
   "cell_type": "code",
   "execution_count": 135,
   "id": "39a7b276",
   "metadata": {},
   "outputs": [],
   "source": [
    "import pickle\n",
    "pickle.dump(tuned_model, open('RFmodel.pkl', 'wb'))"
   ]
  }
 ],
 "metadata": {
  "kernelspec": {
   "display_name": "Python 3 (ipykernel)",
   "language": "python",
   "name": "python3"
  },
  "language_info": {
   "codemirror_mode": {
    "name": "ipython",
    "version": 3
   },
   "file_extension": ".py",
   "mimetype": "text/x-python",
   "name": "python",
   "nbconvert_exporter": "python",
   "pygments_lexer": "ipython3",
   "version": "3.9.13"
  }
 },
 "nbformat": 4,
 "nbformat_minor": 5
}
